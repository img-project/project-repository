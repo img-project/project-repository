{
 "cells": [
  {
   "cell_type": "markdown",
   "metadata": {},
   "source": [
    "# Import"
   ]
  },
  {
   "cell_type": "code",
   "execution_count": 1,
   "metadata": {},
   "outputs": [],
   "source": [
    "import tensorflow as tf\n",
    "from tensorflow import keras\n",
    "from matplotlib import pyplot as plt\n",
    "import numpy as np\n",
    "import pathlib\n",
    "import os\n",
    "import datetime\n",
    "\n",
    "AUTOTUNE = tf.data.experimental.AUTOTUNE"
   ]
  },
  {
   "cell_type": "code",
   "execution_count": 2,
   "metadata": {},
   "outputs": [
    {
     "name": "stdout",
     "output_type": "stream",
     "text": [
      "tensorflow version check :  2.0.0\n",
      "gpu check :  True\n"
     ]
    }
   ],
   "source": [
    "print(\"tensorflow version check : \", tf.__version__)\n",
    "print(\"gpu check : \",tf.test.is_gpu_available())"
   ]
  },
  {
   "cell_type": "markdown",
   "metadata": {},
   "source": [
    "# Data processing Pipeline"
   ]
  },
  {
   "cell_type": "markdown",
   "metadata": {},
   "source": [
    "## Data 불러오기\n",
    "### 이미지 파일들을 그대로 불러오면 용량이 너무 크니 경로를 지정하여 다룸"
   ]
  },
  {
   "cell_type": "code",
   "execution_count": 3,
   "metadata": {},
   "outputs": [],
   "source": [
    "train_dir = pathlib.Path('../../before_folder/image_train/Training')\n",
    "private_test_dir = pathlib.Path('../../before_folder/image_train/PrivateTest')\n",
    "public_test_dir = pathlib.Path('../../before_folder/image_train/PublicTest')"
   ]
  },
  {
   "cell_type": "code",
   "execution_count": 4,
   "metadata": {},
   "outputs": [
    {
     "name": "stdout",
     "output_type": "stream",
     "text": [
      "28708\n",
      "3589\n",
      "3589\n"
     ]
    }
   ],
   "source": [
    "# 각 경로 별 데이터 갯수 확인\n",
    "print(len(list(train_dir.glob('*/*.jpg'))))\n",
    "print(len(list(public_test_dir.glob('*/*.jpg'))))\n",
    "print(len(list(private_test_dir.glob('*/*.jpg'))))"
   ]
  },
  {
   "cell_type": "markdown",
   "metadata": {},
   "source": [
    "#### dataset 만들기"
   ]
  },
  {
   "cell_type": "code",
   "execution_count": 5,
   "metadata": {},
   "outputs": [],
   "source": [
    "list_ds = tf.data.Dataset.list_files(str(train_dir/'*/*.jpg'))\n",
    "val_list_ds = tf.data.Dataset.list_files(str(public_test_dir/'*/*.jpg'))\n",
    "test_ds = tf.data.Dataset.list_files(str(private_test_dir/'*/*.jpg'))"
   ]
  },
  {
   "cell_type": "code",
   "execution_count": 6,
   "metadata": {},
   "outputs": [
    {
     "name": "stdout",
     "output_type": "stream",
     "text": [
      "b'..\\\\..\\\\before_folder\\\\image_train\\\\Training\\\\Surprise\\\\9742.jpg'\n",
      "b'..\\\\..\\\\before_folder\\\\image_train\\\\Training\\\\Fear\\\\24272.jpg'\n",
      "b'..\\\\..\\\\before_folder\\\\image_train\\\\Training\\\\Happy\\\\12520.jpg'\n",
      "b'..\\\\..\\\\before_folder\\\\image_train\\\\Training\\\\Neutral\\\\8898.jpg'\n",
      "b'..\\\\..\\\\before_folder\\\\image_train\\\\Training\\\\Happy\\\\23338.jpg'\n"
     ]
    }
   ],
   "source": [
    "#확인하기\n",
    "for f in list_ds.take(5) : \n",
    "    print(f.numpy())"
   ]
  },
  {
   "cell_type": "markdown",
   "metadata": {},
   "source": [
    "## Data labeling을 위한 전처리"
   ]
  },
  {
   "cell_type": "code",
   "execution_count": 7,
   "metadata": {},
   "outputs": [
    {
     "data": {
      "text/plain": [
       "array(['Angry', 'Disgust', 'Fear', 'Happy', 'Neutral', 'Sad', 'Surprise'],\n",
       "      dtype='<U8')"
      ]
     },
     "execution_count": 7,
     "metadata": {},
     "output_type": "execute_result"
    }
   ],
   "source": [
    "CLASS_NAMES = np.array([item.name for item in train_dir.glob('*')])\n",
    "\n",
    "CLASS_NAMES"
   ]
  },
  {
   "cell_type": "code",
   "execution_count": 8,
   "metadata": {},
   "outputs": [
    {
     "name": "stdout",
     "output_type": "stream",
     "text": [
      "{'Angry': 0, 'Disgust': 1, 'Fear': 2, 'Happy': 3, 'Neutral': 4, 'Sad': 5, 'Surprise': 6}\n"
     ]
    }
   ],
   "source": [
    "CLASS_NAME_TO_ID = {}\n",
    "for id, name in enumerate(CLASS_NAMES):\n",
    "    CLASS_NAME_TO_ID[name] = id\n",
    "    \n",
    "print(CLASS_NAME_TO_ID)"
   ]
  },
  {
   "cell_type": "code",
   "execution_count": 9,
   "metadata": {},
   "outputs": [
    {
     "name": "stdout",
     "output_type": "stream",
     "text": [
      "['Angry', 'Disgust', 'Fear', 'Happy', 'Neutral', 'Sad', 'Surprise'] [0, 1, 2, 3, 4, 5, 6]\n"
     ]
    }
   ],
   "source": [
    "keys = list(CLASS_NAME_TO_ID.keys())\n",
    "ids = list(CLASS_NAME_TO_ID.values())\n",
    "print(keys,ids)"
   ]
  },
  {
   "cell_type": "code",
   "execution_count": 10,
   "metadata": {},
   "outputs": [],
   "source": [
    "table = tf.lookup.StaticHashTable(\n",
    "    initializer= tf.lookup.KeyValueTensorInitializer(\n",
    "    keys= tf.constant(keys),\n",
    "    values=tf.constant(ids),),\n",
    "    default_value=tf.constant(-1),\n",
    "    name=\"class_weight\")"
   ]
  },
  {
   "cell_type": "code",
   "execution_count": 11,
   "metadata": {},
   "outputs": [],
   "source": [
    "BATCH_SIZE = 96\n",
    "IMG_HEIGHT = 96\n",
    "IMG_WIDTH = 96"
   ]
  },
  {
   "cell_type": "markdown",
   "metadata": {},
   "source": [
    "## data labeling을 위한 함수 선언"
   ]
  },
  {
   "cell_type": "code",
   "execution_count": 12,
   "metadata": {},
   "outputs": [],
   "source": [
    "def get_label(file_path) :\n",
    "    parts = tf.strings.split(file_path, '\\\\')\n",
    "    return table.lookup(parts[-2])"
   ]
  },
  {
   "cell_type": "code",
   "execution_count": 13,
   "metadata": {},
   "outputs": [],
   "source": [
    "def decode_img(img):\n",
    "    img = tf.image.decode_jpeg(img,channels=1)\n",
    "    img = tf.image.convert_image_dtype(img, tf.float32)\n",
    "    return tf.image.resize(img,[IMG_WIDTH,IMG_HEIGHT])"
   ]
  },
  {
   "cell_type": "code",
   "execution_count": 14,
   "metadata": {},
   "outputs": [],
   "source": [
    "def process_path(file_path):\n",
    "    label = get_label(file_path)\n",
    "    img = tf.io.read_file(file_path)\n",
    "    img = decode_img(img)\n",
    "    return img, label"
   ]
  },
  {
   "cell_type": "markdown",
   "metadata": {},
   "source": [
    "### labeling 된 데이터셋 만들기"
   ]
  },
  {
   "cell_type": "code",
   "execution_count": 15,
   "metadata": {},
   "outputs": [],
   "source": [
    "labeled_ds = list_ds.shuffle(10000).map(process_path, num_parallel_calls=AUTOTUNE).batch(BATCH_SIZE)\n",
    "val_labeled_ds = val_list_ds.map(process_path,num_parallel_calls=AUTOTUNE).batch(BATCH_SIZE)\n",
    "test_ds = test_ds.map(process_path,num_parallel_calls=AUTOTUNE).batch(BATCH_SIZE)"
   ]
  },
  {
   "cell_type": "code",
   "execution_count": 16,
   "metadata": {},
   "outputs": [
    {
     "name": "stdout",
     "output_type": "stream",
     "text": [
      "image shape :  (96, 96, 96, 1)\n",
      "Label :  [4 2 3 2 5 0 3 6 3 3 3 5 4 2 3 3 4 2 3 6 0 0 5 0 3 4 5 0 0 5 5 5 4 5 4 5 3\n",
      " 6 3 3 0 0 4 3 5 6 3 4 6 4 3 2 0 4 3 3 0 5 3 2 4 3 6 6 6 5 1 4 3 3 3 0 6 5\n",
      " 4 2 3 2 4 5 3 5 3 5 2 3 3 0 5 0 6 6 4 2 4 3]\n",
      "val_img_shape :  (96, 96, 96, 1)\n",
      "test_img_shape (96, 96, 96, 1)\n"
     ]
    }
   ],
   "source": [
    "for image, label in labeled_ds.take(1) :\n",
    "    print(\"image shape : \", image.numpy().shape)\n",
    "    print(\"Label : \", label.numpy())\n",
    "    \n",
    "for i in val_labeled_ds.take(1):\n",
    "    print('val_img_shape : ',i[0].shape)\n",
    "    \n",
    "for i in test_ds.take(1):\n",
    "    print('test_img_shape' , i[0].shape)"
   ]
  },
  {
   "cell_type": "markdown",
   "metadata": {},
   "source": [
    "# Model 만들기  "
   ]
  },
  {
   "cell_type": "code",
   "execution_count": 54,
   "metadata": {},
   "outputs": [],
   "source": [
    "def create_model() :\n",
    "    inputs = keras.Input(shape=(96, 96,1), name='img')\n",
    "\n",
    "    feature = tf.keras.layers.Conv2D(16, 3, padding='same', input_shape=(IMG_HEIGHT, IMG_WIDTH ,3))(inputs)\n",
    "    feature = tf.keras.layers.LeakyReLU()(feature)\n",
    "    feature = tf.keras.layers.Conv2D(16, 3, padding='same')(feature)\n",
    "    feature = tf.keras.layers.LeakyReLU()(feature)\n",
    "    feature = tf.keras.layers.Conv2D(16, 3, padding='same')(feature)\n",
    "    feature = tf.keras.layers.BatchNormalization()(feature)\n",
    "    feature = tf.keras.layers.LeakyReLU()(feature)\n",
    "    feature = tf.keras.layers.MaxPooling2D()(feature)\n",
    "    feature = tf.keras.layers.Dropout(0.3)(feature)\n",
    "\n",
    "    feature = tf.keras.layers.Conv2D(32, 3, padding='same')(feature)\n",
    "    feature = tf.keras.layers.LeakyReLU()(feature)\n",
    "    feature = tf.keras.layers.Conv2D(32, 3, padding='same')(feature)\n",
    "    feature = tf.keras.layers.LeakyReLU()(feature)\n",
    "    feature = tf.keras.layers.Conv2D(32, 3, padding='same')(feature)\n",
    "    feature = tf.keras.layers.BatchNormalization()(feature)\n",
    "    feature = tf.keras.layers.LeakyReLU()(feature)\n",
    "    feature = tf.keras.layers.MaxPooling2D()(feature)\n",
    "    feature = tf.keras.layers.Dropout(0.3)(feature)\n",
    "\n",
    "    feature = tf.keras.layers.Conv2D(64, 3, padding='same')(feature)\n",
    "    feature = tf.keras.layers.LeakyReLU()(feature)\n",
    "    feature = tf.keras.layers.Conv2D(64, 3, padding='same')(feature)\n",
    "    feature = tf.keras.layers.LeakyReLU()(feature)\n",
    "    feature = tf.keras.layers.Conv2D(64, 3, padding='same')(feature)\n",
    "    feature = tf.keras.layers.BatchNormalization()(feature)\n",
    "    feature = tf.keras.layers.LeakyReLU()(feature)\n",
    "    feature = tf.keras.layers.MaxPooling2D()(feature)\n",
    "    feature = tf.keras.layers.Dropout(0.3)(feature)\n",
    "    \n",
    "    feature = tf.keras.layers.Conv2D(128, 3, padding='same')(feature)\n",
    "    feature = tf.keras.layers.LeakyReLU()(feature)\n",
    "    feature = tf.keras.layers.Conv2D(128, 3, padding='same')(feature)\n",
    "    feature = tf.keras.layers.LeakyReLU()(feature)\n",
    "    feature = tf.keras.layers.Conv2D(128, 3, padding='same')(feature)\n",
    "    feature = tf.keras.layers.BatchNormalization()(feature)\n",
    "    feature = tf.keras.layers.LeakyReLU()(feature)\n",
    "    feature = tf.keras.layers.MaxPooling2D()(feature)\n",
    "    feature = tf.keras.layers.Dropout(0.3)(feature)\n",
    "    \n",
    "    feature = tf.keras.layers.Conv2D(256, 3, padding='same')(feature)\n",
    "    feature = tf.keras.layers.LeakyReLU()(feature)\n",
    "    feature = tf.keras.layers.Conv2D(256, 3, padding='same')(feature)\n",
    "    feature = tf.keras.layers.LeakyReLU()(feature)\n",
    "    feature = tf.keras.layers.Conv2D(256, 3, padding='same')(feature)\n",
    "    feature = tf.keras.layers.BatchNormalization()(feature)\n",
    "    feature = tf.keras.layers.LeakyReLU()(feature)\n",
    "    feature = tf.keras.layers.MaxPooling2D()(feature)\n",
    "    feature = tf.keras.layers.Dropout(0.3)(feature)\n",
    "    \n",
    "    feature = tf.keras.layers.Conv2D(512, 3, padding='same')(feature)\n",
    "    feature = tf.keras.layers.LeakyReLU()(feature)\n",
    "    feature = tf.keras.layers.Conv2D(512, 3, padding='same')(feature)\n",
    "    feature = tf.keras.layers.LeakyReLU()(feature)\n",
    "    feature = tf.keras.layers.Conv2D(512, 3, padding='same')(feature)\n",
    "    feature = tf.keras.layers.BatchNormalization()(feature)\n",
    "    feature = tf.keras.layers.LeakyReLU()(feature)\n",
    "    feature = tf.keras.layers.MaxPooling2D()(feature)\n",
    "    feature = tf.keras.layers.Dropout(0.3)(feature)\n",
    "    \n",
    "    feature = tf.keras.layers.GlobalAveragePooling2D()(feature)\n",
    "    feature = tf.keras.layers.Dense(128)(feature)\n",
    "    feature = tf.keras.layers.LeakyReLU()(feature)\n",
    "    feature = tf.keras.layers.Dense(64)(feature)\n",
    "    feature = tf.keras.layers.LeakyReLU()(feature)\n",
    "    outputs = tf.keras.layers.Dense(7, activation='softmax')(feature)\n",
    "\n",
    "    model = keras.Model(inputs=inputs, outputs=outputs)\n",
    "    \n",
    "    return model"
   ]
  },
  {
   "cell_type": "code",
   "execution_count": 55,
   "metadata": {},
   "outputs": [],
   "source": [
    "model = create_model()"
   ]
  },
  {
   "cell_type": "code",
   "execution_count": 56,
   "metadata": {},
   "outputs": [
    {
     "name": "stdout",
     "output_type": "stream",
     "text": [
      "Model: \"model_3\"\n",
      "_________________________________________________________________\n",
      "Layer (type)                 Output Shape              Param #   \n",
      "=================================================================\n",
      "img (InputLayer)             [(None, 96, 96, 1)]       0         \n",
      "_________________________________________________________________\n",
      "conv2d_63 (Conv2D)           (None, 96, 96, 16)        160       \n",
      "_________________________________________________________________\n",
      "leaky_re_lu_67 (LeakyReLU)   (None, 96, 96, 16)        0         \n",
      "_________________________________________________________________\n",
      "conv2d_64 (Conv2D)           (None, 96, 96, 16)        2320      \n",
      "_________________________________________________________________\n",
      "leaky_re_lu_68 (LeakyReLU)   (None, 96, 96, 16)        0         \n",
      "_________________________________________________________________\n",
      "conv2d_65 (Conv2D)           (None, 96, 96, 16)        2320      \n",
      "_________________________________________________________________\n",
      "batch_normalization_21 (Batc (None, 96, 96, 16)        64        \n",
      "_________________________________________________________________\n",
      "leaky_re_lu_69 (LeakyReLU)   (None, 96, 96, 16)        0         \n",
      "_________________________________________________________________\n",
      "max_pooling2d_19 (MaxPooling (None, 48, 48, 16)        0         \n",
      "_________________________________________________________________\n",
      "dropout_19 (Dropout)         (None, 48, 48, 16)        0         \n",
      "_________________________________________________________________\n",
      "conv2d_66 (Conv2D)           (None, 48, 48, 32)        4640      \n",
      "_________________________________________________________________\n",
      "leaky_re_lu_70 (LeakyReLU)   (None, 48, 48, 32)        0         \n",
      "_________________________________________________________________\n",
      "conv2d_67 (Conv2D)           (None, 48, 48, 32)        9248      \n",
      "_________________________________________________________________\n",
      "leaky_re_lu_71 (LeakyReLU)   (None, 48, 48, 32)        0         \n",
      "_________________________________________________________________\n",
      "conv2d_68 (Conv2D)           (None, 48, 48, 32)        9248      \n",
      "_________________________________________________________________\n",
      "batch_normalization_22 (Batc (None, 48, 48, 32)        128       \n",
      "_________________________________________________________________\n",
      "leaky_re_lu_72 (LeakyReLU)   (None, 48, 48, 32)        0         \n",
      "_________________________________________________________________\n",
      "max_pooling2d_20 (MaxPooling (None, 24, 24, 32)        0         \n",
      "_________________________________________________________________\n",
      "dropout_20 (Dropout)         (None, 24, 24, 32)        0         \n",
      "_________________________________________________________________\n",
      "conv2d_69 (Conv2D)           (None, 24, 24, 64)        18496     \n",
      "_________________________________________________________________\n",
      "leaky_re_lu_73 (LeakyReLU)   (None, 24, 24, 64)        0         \n",
      "_________________________________________________________________\n",
      "conv2d_70 (Conv2D)           (None, 24, 24, 64)        36928     \n",
      "_________________________________________________________________\n",
      "leaky_re_lu_74 (LeakyReLU)   (None, 24, 24, 64)        0         \n",
      "_________________________________________________________________\n",
      "conv2d_71 (Conv2D)           (None, 24, 24, 64)        36928     \n",
      "_________________________________________________________________\n",
      "batch_normalization_23 (Batc (None, 24, 24, 64)        256       \n",
      "_________________________________________________________________\n",
      "leaky_re_lu_75 (LeakyReLU)   (None, 24, 24, 64)        0         \n",
      "_________________________________________________________________\n",
      "max_pooling2d_21 (MaxPooling (None, 12, 12, 64)        0         \n",
      "_________________________________________________________________\n",
      "dropout_21 (Dropout)         (None, 12, 12, 64)        0         \n",
      "_________________________________________________________________\n",
      "conv2d_72 (Conv2D)           (None, 12, 12, 128)       73856     \n",
      "_________________________________________________________________\n",
      "leaky_re_lu_76 (LeakyReLU)   (None, 12, 12, 128)       0         \n",
      "_________________________________________________________________\n",
      "conv2d_73 (Conv2D)           (None, 12, 12, 128)       147584    \n",
      "_________________________________________________________________\n",
      "leaky_re_lu_77 (LeakyReLU)   (None, 12, 12, 128)       0         \n",
      "_________________________________________________________________\n",
      "conv2d_74 (Conv2D)           (None, 12, 12, 128)       147584    \n",
      "_________________________________________________________________\n",
      "batch_normalization_24 (Batc (None, 12, 12, 128)       512       \n",
      "_________________________________________________________________\n",
      "leaky_re_lu_78 (LeakyReLU)   (None, 12, 12, 128)       0         \n",
      "_________________________________________________________________\n",
      "max_pooling2d_22 (MaxPooling (None, 6, 6, 128)         0         \n",
      "_________________________________________________________________\n",
      "dropout_22 (Dropout)         (None, 6, 6, 128)         0         \n",
      "_________________________________________________________________\n",
      "conv2d_75 (Conv2D)           (None, 6, 6, 256)         295168    \n",
      "_________________________________________________________________\n",
      "leaky_re_lu_79 (LeakyReLU)   (None, 6, 6, 256)         0         \n",
      "_________________________________________________________________\n",
      "conv2d_76 (Conv2D)           (None, 6, 6, 256)         590080    \n",
      "_________________________________________________________________\n",
      "leaky_re_lu_80 (LeakyReLU)   (None, 6, 6, 256)         0         \n",
      "_________________________________________________________________\n",
      "conv2d_77 (Conv2D)           (None, 6, 6, 256)         590080    \n",
      "_________________________________________________________________\n",
      "batch_normalization_25 (Batc (None, 6, 6, 256)         1024      \n",
      "_________________________________________________________________\n",
      "leaky_re_lu_81 (LeakyReLU)   (None, 6, 6, 256)         0         \n",
      "_________________________________________________________________\n",
      "max_pooling2d_23 (MaxPooling (None, 3, 3, 256)         0         \n",
      "_________________________________________________________________\n",
      "dropout_23 (Dropout)         (None, 3, 3, 256)         0         \n",
      "_________________________________________________________________\n",
      "conv2d_78 (Conv2D)           (None, 3, 3, 512)         1180160   \n",
      "_________________________________________________________________\n",
      "leaky_re_lu_82 (LeakyReLU)   (None, 3, 3, 512)         0         \n",
      "_________________________________________________________________\n",
      "conv2d_79 (Conv2D)           (None, 3, 3, 512)         2359808   \n",
      "_________________________________________________________________\n",
      "leaky_re_lu_83 (LeakyReLU)   (None, 3, 3, 512)         0         \n",
      "_________________________________________________________________\n",
      "conv2d_80 (Conv2D)           (None, 3, 3, 512)         2359808   \n",
      "_________________________________________________________________\n",
      "batch_normalization_26 (Batc (None, 3, 3, 512)         2048      \n",
      "_________________________________________________________________\n",
      "leaky_re_lu_84 (LeakyReLU)   (None, 3, 3, 512)         0         \n",
      "_________________________________________________________________\n",
      "max_pooling2d_24 (MaxPooling (None, 1, 1, 512)         0         \n",
      "_________________________________________________________________\n",
      "dropout_24 (Dropout)         (None, 1, 1, 512)         0         \n",
      "_________________________________________________________________\n",
      "global_average_pooling2d_3 ( (None, 512)               0         \n",
      "_________________________________________________________________\n",
      "dense_9 (Dense)              (None, 128)               65664     \n",
      "_________________________________________________________________\n",
      "leaky_re_lu_85 (LeakyReLU)   (None, 128)               0         \n",
      "_________________________________________________________________\n",
      "dense_10 (Dense)             (None, 64)                8256      \n",
      "_________________________________________________________________\n",
      "leaky_re_lu_86 (LeakyReLU)   (None, 64)                0         \n",
      "_________________________________________________________________\n",
      "dense_11 (Dense)             (None, 7)                 455       \n",
      "=================================================================\n",
      "Total params: 7,942,823\n",
      "Trainable params: 7,940,807\n",
      "Non-trainable params: 2,016\n",
      "_________________________________________________________________\n"
     ]
    }
   ],
   "source": [
    "model.summary()"
   ]
  },
  {
   "cell_type": "code",
   "execution_count": 57,
   "metadata": {},
   "outputs": [],
   "source": [
    "train_len = len(list(list_ds))\n",
    "val_len = len(list(val_list_ds))\n",
    "\n",
    "steps_per_epoch = train_len // BATCH_SIZE\n",
    "validation_steps = val_len // BATCH_SIZE"
   ]
  },
  {
   "cell_type": "code",
   "execution_count": 58,
   "metadata": {},
   "outputs": [],
   "source": [
    "checkpoint_path = \"../../before_folder/model_save/test_4-epoch{epoch:03d}-acc{accuracy:.02f}-val{val_accuracy:.02f}.hdf5\""
   ]
  },
  {
   "cell_type": "code",
   "execution_count": 59,
   "metadata": {},
   "outputs": [],
   "source": [
    "EPOCH = 300\n",
    "learning_rate = 0.003\n",
    "\n",
    "def train_model(model):\n",
    "    \n",
    "    model.compile(optimizer= tf.keras.optimizers.Adam(learning_rate = learning_rate),\n",
    "                  loss='sparse_categorical_crossentropy',\n",
    "                  metrics=['accuracy'])\n",
    "    \n",
    "    model_checkpoint_callback = tf.keras.callbacks.ModelCheckpoint(filepath=checkpoint_path,\n",
    "                                                                   period=30)\n",
    "    early_stopping = tf.keras.callbacks.EarlyStopping(monitor='val_accuracy',min_delta=0.01,\n",
    "                                                     patience=20,mode='max')\n",
    "    \n",
    "    history = model.fit(labeled_ds.repeat(),\n",
    "                        epochs=EPOCH,\n",
    "                        steps_per_epoch = steps_per_epoch,\n",
    "                        validation_data = val_labeled_ds,\n",
    "                        validation_steps = validation_steps,\n",
    "                        callbacks = [model_checkpoint_callback,early_stopping])\n",
    "    \n",
    "    return history"
   ]
  },
  {
   "cell_type": "code",
   "execution_count": 60,
   "metadata": {},
   "outputs": [
    {
     "name": "stdout",
     "output_type": "stream",
     "text": [
      "WARNING:tensorflow:`period` argument is deprecated. Please use `save_freq` to specify the frequency in number of samples seen.\n",
      "Train for 299 steps, validate for 37 steps\n",
      "Epoch 1/300\n",
      "299/299 [==============================] - 31s 105ms/step - loss: 1.8559 - accuracy: 0.2339 - val_loss: 1.9679 - val_accuracy: 0.2393\n",
      "Epoch 2/300\n",
      "299/299 [==============================] - 30s 100ms/step - loss: 1.7733 - accuracy: 0.2607 - val_loss: 1.9469 - val_accuracy: 0.1819\n",
      "Epoch 3/300\n",
      "299/299 [==============================] - 30s 100ms/step - loss: 1.6453 - accuracy: 0.3377 - val_loss: 3.0605 - val_accuracy: 0.1377\n",
      "Epoch 4/300\n",
      "299/299 [==============================] - 30s 100ms/step - loss: 1.4989 - accuracy: 0.4151 - val_loss: 1.8201 - val_accuracy: 0.3052\n",
      "Epoch 5/300\n",
      "299/299 [==============================] - 30s 100ms/step - loss: 1.4358 - accuracy: 0.4452 - val_loss: 1.5109 - val_accuracy: 0.4282\n",
      "Epoch 6/300\n",
      "299/299 [==============================] - 30s 100ms/step - loss: 1.3729 - accuracy: 0.4703 - val_loss: 1.5461 - val_accuracy: 0.4032\n",
      "Epoch 7/300\n",
      "299/299 [==============================] - 30s 100ms/step - loss: 1.3272 - accuracy: 0.4869 - val_loss: 1.4826 - val_accuracy: 0.4471\n",
      "Epoch 8/300\n",
      "299/299 [==============================] - 30s 100ms/step - loss: 1.3087 - accuracy: 0.4978 - val_loss: 1.6487 - val_accuracy: 0.3941\n",
      "Epoch 9/300\n",
      "299/299 [==============================] - 30s 100ms/step - loss: 1.2837 - accuracy: 0.5038 - val_loss: 1.3397 - val_accuracy: 0.4862\n",
      "Epoch 10/300\n",
      "299/299 [==============================] - 30s 100ms/step - loss: 1.2388 - accuracy: 0.5219 - val_loss: 1.2499 - val_accuracy: 0.5169\n",
      "Epoch 11/300\n",
      "299/299 [==============================] - 30s 100ms/step - loss: 1.2286 - accuracy: 0.5269 - val_loss: 1.2495 - val_accuracy: 0.5149\n",
      "Epoch 12/300\n",
      "299/299 [==============================] - 30s 100ms/step - loss: 1.2095 - accuracy: 0.5368 - val_loss: 1.2806 - val_accuracy: 0.5273\n",
      "Epoch 13/300\n",
      "299/299 [==============================] - 30s 100ms/step - loss: 1.1879 - accuracy: 0.5441 - val_loss: 1.3161 - val_accuracy: 0.5068\n",
      "Epoch 14/300\n",
      "299/299 [==============================] - 30s 100ms/step - loss: 1.1819 - accuracy: 0.5428 - val_loss: 1.3166 - val_accuracy: 0.5082\n",
      "Epoch 15/300\n",
      "299/299 [==============================] - 30s 100ms/step - loss: 1.1526 - accuracy: 0.5577 - val_loss: 1.2159 - val_accuracy: 0.5310\n",
      "Epoch 16/300\n",
      "299/299 [==============================] - 30s 100ms/step - loss: 1.1324 - accuracy: 0.5681 - val_loss: 1.2769 - val_accuracy: 0.5282\n",
      "Epoch 17/300\n",
      "299/299 [==============================] - 30s 100ms/step - loss: 1.1287 - accuracy: 0.5707 - val_loss: 1.3573 - val_accuracy: 0.5045\n",
      "Epoch 18/300\n",
      "299/299 [==============================] - 30s 100ms/step - loss: 1.1073 - accuracy: 0.5832 - val_loss: 1.3211 - val_accuracy: 0.4947\n",
      "Epoch 19/300\n",
      "299/299 [==============================] - 30s 100ms/step - loss: 1.0935 - accuracy: 0.5882 - val_loss: 1.2963 - val_accuracy: 0.5236\n",
      "Epoch 20/300\n",
      "299/299 [==============================] - 30s 100ms/step - loss: 1.0715 - accuracy: 0.5963 - val_loss: 1.1707 - val_accuracy: 0.5659\n",
      "Epoch 21/300\n",
      "299/299 [==============================] - 30s 100ms/step - loss: 1.0546 - accuracy: 0.5996 - val_loss: 1.2235 - val_accuracy: 0.5380\n",
      "Epoch 22/300\n",
      "299/299 [==============================] - 30s 100ms/step - loss: 1.0400 - accuracy: 0.6070 - val_loss: 1.2751 - val_accuracy: 0.5287\n",
      "Epoch 23/300\n",
      "299/299 [==============================] - 30s 100ms/step - loss: 1.0933 - accuracy: 0.5869 - val_loss: 1.1627 - val_accuracy: 0.5704\n",
      "Epoch 24/300\n",
      "299/299 [==============================] - 30s 100ms/step - loss: 1.0268 - accuracy: 0.6135 - val_loss: 1.1268 - val_accuracy: 0.5701\n",
      "Epoch 25/300\n",
      "299/299 [==============================] - 30s 100ms/step - loss: 0.9991 - accuracy: 0.6254 - val_loss: 1.1175 - val_accuracy: 0.5864\n",
      "Epoch 26/300\n",
      "299/299 [==============================] - 30s 100ms/step - loss: 0.9923 - accuracy: 0.6295 - val_loss: 1.2663 - val_accuracy: 0.5338\n",
      "Epoch 27/300\n",
      "299/299 [==============================] - 30s 100ms/step - loss: 0.9751 - accuracy: 0.6361 - val_loss: 1.2042 - val_accuracy: 0.5648\n",
      "Epoch 28/300\n",
      "299/299 [==============================] - 30s 100ms/step - loss: 0.9929 - accuracy: 0.6265 - val_loss: 1.1152 - val_accuracy: 0.5763\n",
      "Epoch 29/300\n",
      "299/299 [==============================] - 30s 100ms/step - loss: 0.9449 - accuracy: 0.6443 - val_loss: 1.3189 - val_accuracy: 0.5265\n",
      "Epoch 30/300\n",
      "299/299 [==============================] - 30s 100ms/step - loss: 0.9428 - accuracy: 0.6463 - val_loss: 1.0482 - val_accuracy: 0.6104\n",
      "Epoch 31/300\n",
      "299/299 [==============================] - 30s 101ms/step - loss: 0.9334 - accuracy: 0.6497 - val_loss: 1.0985 - val_accuracy: 0.5997\n",
      "Epoch 32/300\n",
      "299/299 [==============================] - 30s 100ms/step - loss: 0.9348 - accuracy: 0.6513 - val_loss: 1.0893 - val_accuracy: 0.5940\n",
      "Epoch 33/300\n",
      "299/299 [==============================] - 30s 100ms/step - loss: 0.9006 - accuracy: 0.6614 - val_loss: 1.0600 - val_accuracy: 0.6115\n",
      "Epoch 34/300\n",
      "299/299 [==============================] - 30s 100ms/step - loss: 0.8987 - accuracy: 0.6616 - val_loss: 1.0503 - val_accuracy: 0.6075\n",
      "Epoch 35/300\n",
      "299/299 [==============================] - 30s 100ms/step - loss: 0.8915 - accuracy: 0.6695 - val_loss: 1.2189 - val_accuracy: 0.5569\n",
      "Epoch 36/300\n",
      "299/299 [==============================] - 30s 100ms/step - loss: 0.8760 - accuracy: 0.6708 - val_loss: 1.1217 - val_accuracy: 0.6047\n",
      "Epoch 37/300\n",
      "299/299 [==============================] - 30s 100ms/step - loss: 0.8588 - accuracy: 0.6774 - val_loss: 1.0687 - val_accuracy: 0.6120\n",
      "Epoch 38/300\n",
      "299/299 [==============================] - 30s 100ms/step - loss: 0.8673 - accuracy: 0.6781 - val_loss: 1.1101 - val_accuracy: 0.5935\n",
      "Epoch 39/300\n",
      "299/299 [==============================] - 30s 100ms/step - loss: 0.8297 - accuracy: 0.6897 - val_loss: 1.0480 - val_accuracy: 0.6250\n",
      "Epoch 40/300\n",
      "299/299 [==============================] - 30s 101ms/step - loss: 0.8282 - accuracy: 0.6914 - val_loss: 1.0979 - val_accuracy: 0.6171\n",
      "Epoch 41/300\n",
      "299/299 [==============================] - 30s 101ms/step - loss: 0.8162 - accuracy: 0.6958 - val_loss: 1.0392 - val_accuracy: 0.6244\n",
      "Epoch 42/300\n",
      "299/299 [==============================] - 30s 101ms/step - loss: 0.8001 - accuracy: 0.7012 - val_loss: 1.2071 - val_accuracy: 0.5946\n",
      "Epoch 43/300\n",
      "299/299 [==============================] - 30s 101ms/step - loss: 0.7916 - accuracy: 0.7053 - val_loss: 1.1257 - val_accuracy: 0.6194\n",
      "Epoch 44/300\n",
      "299/299 [==============================] - 30s 101ms/step - loss: 0.7900 - accuracy: 0.7080 - val_loss: 1.0801 - val_accuracy: 0.6275\n",
      "Epoch 45/300\n",
      "299/299 [==============================] - 30s 101ms/step - loss: 0.7755 - accuracy: 0.7136 - val_loss: 1.0626 - val_accuracy: 0.6244\n",
      "Epoch 46/300\n",
      "299/299 [==============================] - 30s 101ms/step - loss: 0.7713 - accuracy: 0.7139 - val_loss: 1.0671 - val_accuracy: 0.6171\n",
      "Epoch 47/300\n",
      "299/299 [==============================] - 30s 101ms/step - loss: 0.7502 - accuracy: 0.7221 - val_loss: 1.1058 - val_accuracy: 0.6177\n",
      "Epoch 48/300\n",
      "299/299 [==============================] - 30s 101ms/step - loss: 0.7466 - accuracy: 0.7220 - val_loss: 1.0415 - val_accuracy: 0.6323\n",
      "Epoch 49/300\n",
      "299/299 [==============================] - 30s 101ms/step - loss: 0.7149 - accuracy: 0.7336 - val_loss: 1.1005 - val_accuracy: 0.6171\n",
      "Epoch 50/300\n",
      "299/299 [==============================] - 30s 101ms/step - loss: 0.7050 - accuracy: 0.7353 - val_loss: 1.0857 - val_accuracy: 0.6185\n",
      "Epoch 51/300\n",
      "299/299 [==============================] - 30s 101ms/step - loss: 0.7027 - accuracy: 0.7401 - val_loss: 1.0979 - val_accuracy: 0.6191\n",
      "Epoch 52/300\n",
      "299/299 [==============================] - 30s 101ms/step - loss: 0.7339 - accuracy: 0.7277 - val_loss: 1.1029 - val_accuracy: 0.6194\n",
      "Epoch 53/300\n",
      "299/299 [==============================] - 30s 101ms/step - loss: 0.6796 - accuracy: 0.7506 - val_loss: 1.0763 - val_accuracy: 0.6416\n",
      "Epoch 54/300\n",
      "299/299 [==============================] - 30s 101ms/step - loss: 0.6753 - accuracy: 0.7500 - val_loss: 1.2009 - val_accuracy: 0.6115\n",
      "Epoch 55/300\n",
      "299/299 [==============================] - 30s 101ms/step - loss: 0.6622 - accuracy: 0.7570 - val_loss: 1.1504 - val_accuracy: 0.6126\n",
      "Epoch 56/300\n",
      "299/299 [==============================] - 30s 101ms/step - loss: 0.6561 - accuracy: 0.7559 - val_loss: 1.1758 - val_accuracy: 0.6273\n",
      "Epoch 57/300\n",
      "299/299 [==============================] - 30s 101ms/step - loss: 0.6383 - accuracy: 0.7668 - val_loss: 1.0798 - val_accuracy: 0.6303\n",
      "Epoch 58/300\n",
      "299/299 [==============================] - 30s 101ms/step - loss: 0.6833 - accuracy: 0.7495 - val_loss: 1.2118 - val_accuracy: 0.5949\n",
      "Epoch 59/300\n",
      "299/299 [==============================] - 30s 100ms/step - loss: 0.6144 - accuracy: 0.7713 - val_loss: 1.1203 - val_accuracy: 0.6239\n",
      "Epoch 60/300\n",
      "299/299 [==============================] - 30s 101ms/step - loss: 0.6105 - accuracy: 0.7759 - val_loss: 1.1405 - val_accuracy: 0.6208\n",
      "Epoch 61/300\n",
      "299/299 [==============================] - 30s 100ms/step - loss: 0.6030 - accuracy: 0.7794 - val_loss: 1.1038 - val_accuracy: 0.6413\n",
      "Epoch 62/300\n",
      "299/299 [==============================] - 30s 100ms/step - loss: 0.5969 - accuracy: 0.7817 - val_loss: 1.1165 - val_accuracy: 0.6413\n",
      "Epoch 63/300\n",
      "299/299 [==============================] - 30s 100ms/step - loss: 0.5847 - accuracy: 0.7836 - val_loss: 1.1954 - val_accuracy: 0.6244\n",
      "Epoch 64/300\n",
      "299/299 [==============================] - 30s 100ms/step - loss: 0.5723 - accuracy: 0.7905 - val_loss: 1.1451 - val_accuracy: 0.6346\n",
      "Epoch 65/300\n",
      "299/299 [==============================] - 30s 100ms/step - loss: 0.5537 - accuracy: 0.7979 - val_loss: 1.1489 - val_accuracy: 0.6346\n",
      "Epoch 66/300\n",
      "299/299 [==============================] - 30s 100ms/step - loss: 0.5450 - accuracy: 0.7981 - val_loss: 1.1318 - val_accuracy: 0.6363\n",
      "Epoch 67/300\n",
      "299/299 [==============================] - 30s 100ms/step - loss: 0.5367 - accuracy: 0.8025 - val_loss: 1.1504 - val_accuracy: 0.6377\n",
      "Epoch 68/300\n",
      "299/299 [==============================] - 30s 100ms/step - loss: 0.5584 - accuracy: 0.7979 - val_loss: 1.1554 - val_accuracy: 0.6388\n",
      "Epoch 69/300\n",
      "299/299 [==============================] - 30s 100ms/step - loss: 0.5770 - accuracy: 0.7881 - val_loss: 1.2419 - val_accuracy: 0.6236\n",
      "Epoch 70/300\n",
      "299/299 [==============================] - 30s 100ms/step - loss: 0.5189 - accuracy: 0.8113 - val_loss: 1.1927 - val_accuracy: 0.6365\n",
      "Epoch 71/300\n",
      "299/299 [==============================] - 30s 100ms/step - loss: 0.5276 - accuracy: 0.8065 - val_loss: 1.1384 - val_accuracy: 0.6430\n",
      "Epoch 72/300\n",
      "299/299 [==============================] - 30s 100ms/step - loss: 0.4878 - accuracy: 0.8217 - val_loss: 1.1945 - val_accuracy: 0.6295\n",
      "Epoch 73/300\n",
      "299/299 [==============================] - 30s 100ms/step - loss: 0.4823 - accuracy: 0.8206 - val_loss: 1.2288 - val_accuracy: 0.6394\n"
     ]
    }
   ],
   "source": [
    "history = train_model(model)"
   ]
  },
  {
   "cell_type": "code",
   "execution_count": 61,
   "metadata": {},
   "outputs": [
    {
     "name": "stdout",
     "output_type": "stream",
     "text": [
      "38/38 [==============================] - 1s 36ms/step - loss: 1.2020 - accuracy: 0.6592\n"
     ]
    },
    {
     "data": {
      "text/plain": [
       "[1.2019832040134228, 0.65923655]"
      ]
     },
     "execution_count": 61,
     "metadata": {},
     "output_type": "execute_result"
    }
   ],
   "source": [
    "history.model.evaluate(test_ds)"
   ]
  },
  {
   "cell_type": "markdown",
   "metadata": {},
   "source": [
    "# Model Test"
   ]
  },
  {
   "cell_type": "code",
   "execution_count": 62,
   "metadata": {},
   "outputs": [
    {
     "data": {
      "image/png": "[encoded data removed]",
      "text/plain": [
       "<Figure size 576x576 with 2 Axes>"
      ]
     },
     "metadata": {
      "needs_background": "light"
     },
     "output_type": "display_data"
    }
   ],
   "source": [
    "acc = history.history['accuracy']\n",
    "val_acc = history.history['val_accuracy']\n",
    "\n",
    "loss = history.history['loss']\n",
    "val_loss = history.history['val_loss']\n",
    "\n",
    "plt.figure(figsize=(8, 8))\n",
    "plt.subplot(2, 1, 1)\n",
    "plt.plot(acc, label='Training Accuracy')\n",
    "plt.plot(val_acc, label='Validation Accuracy')\n",
    "plt.legend()\n",
    "plt.ylabel('Accuracy')\n",
    "plt.title('Training and Validation Accuracy')\n",
    "\n",
    "plt.subplot(2, 1, 2)\n",
    "plt.plot(loss, label='Training Loss')\n",
    "plt.plot(val_loss, label='Validation Loss')\n",
    "plt.legend()\n",
    "plt.ylabel('Cross Entropy')\n",
    "plt.title('Training and Validation Loss')\n",
    "plt.xlabel('epoch')\n",
    "plt.show()"
   ]
  },
  {
   "cell_type": "code",
   "execution_count": null,
   "metadata": {},
   "outputs": [],
   "source": []
  }
 ],
 "metadata": {
  "kernelspec": {
   "display_name": "Tensorflow",
   "language": "python",
   "name": "tf"
  },
  "language_info": {
   "codemirror_mode": {
    "name": "ipython",
    "version": 3
   },
   "file_extension": ".py",
   "mimetype": "text/x-python",
   "name": "python",
   "nbconvert_exporter": "python",
   "pygments_lexer": "ipython3",
   "version": "3.7.5"
  }
 },
 "nbformat": 4,
 "nbformat_minor": 4
}
