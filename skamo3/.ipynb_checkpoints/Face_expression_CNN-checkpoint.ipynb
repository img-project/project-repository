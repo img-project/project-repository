{
 "cells": [
  {
   "cell_type": "markdown",
   "metadata": {},
   "source": [
    "# Import"
   ]
  },
  {
   "cell_type": "code",
   "execution_count": 1,
   "metadata": {},
   "outputs": [],
   "source": [
    "import tensorflow as tf\n",
    "from tensorflow import keras\n",
    "from matplotlib import pyplot as plt\n",
    "import numpy as np\n",
    "import pathlib\n",
    "import os\n",
    "import datetime\n",
    "\n",
    "AUTOTUNE = tf.data.experimental.AUTOTUNE"
   ]
  },
  {
   "cell_type": "code",
   "execution_count": 2,
   "metadata": {},
   "outputs": [
    {
     "name": "stdout",
     "output_type": "stream",
     "text": [
      "tensorflow version check :  2.0.0\n",
      "gpu check :  True\n"
     ]
    }
   ],
   "source": [
    "print(\"tensorflow version check : \", tf.__version__)\n",
    "print(\"gpu check : \",tf.test.is_gpu_available())"
   ]
  },
  {
   "cell_type": "markdown",
   "metadata": {},
   "source": [
    "# Data processing Pipeline"
   ]
  },
  {
   "cell_type": "markdown",
   "metadata": {},
   "source": [
    "## Data 불러오기\n",
    "### 이미지 파일들을 그대로 불러오면 용량이 너무 크니 경로를 지정하여 다룸"
   ]
  },
  {
   "cell_type": "code",
   "execution_count": 3,
   "metadata": {},
   "outputs": [],
   "source": [
    "train_dir = pathlib.Path('../../before_folder/image_train/Training')\n",
    "private_test_dir = pathlib.Path('../../before_folder/image_train/PrivateTest')\n",
    "public_test_dir = pathlib.Path('../../before_folder/image_train/PublicTest')"
   ]
  },
  {
   "cell_type": "code",
   "execution_count": 4,
   "metadata": {},
   "outputs": [
    {
     "name": "stdout",
     "output_type": "stream",
     "text": [
      "28708\n",
      "3589\n",
      "3589\n"
     ]
    }
   ],
   "source": [
    "# 각 경로 별 데이터 갯수 확인\n",
    "print(len(list(train_dir.glob('*/*.jpg'))))\n",
    "print(len(list(public_test_dir.glob('*/*.jpg'))))\n",
    "print(len(list(private_test_dir.glob('*/*.jpg'))))"
   ]
  },
  {
   "cell_type": "markdown",
   "metadata": {},
   "source": [
    "#### dataset 만들기"
   ]
  },
  {
   "cell_type": "code",
   "execution_count": 5,
   "metadata": {},
   "outputs": [],
   "source": [
    "list_ds = tf.data.Dataset.list_files(str(train_dir/'*/*.jpg'))\n",
    "val_list_ds = tf.data.Dataset.list_files(str(public_test_dir/'*/*.jpg'))"
   ]
  },
  {
   "cell_type": "code",
   "execution_count": 6,
   "metadata": {},
   "outputs": [
    {
     "name": "stdout",
     "output_type": "stream",
     "text": [
      "b'..\\\\..\\\\before_folder\\\\image_train\\\\Training\\\\Fear\\\\20598.jpg'\n",
      "b'..\\\\..\\\\before_folder\\\\image_train\\\\Training\\\\Neutral\\\\3165.jpg'\n",
      "b'..\\\\..\\\\before_folder\\\\image_train\\\\Training\\\\Surprise\\\\27602.jpg'\n",
      "b'..\\\\..\\\\before_folder\\\\image_train\\\\Training\\\\Angry\\\\21372.jpg'\n",
      "b'..\\\\..\\\\before_folder\\\\image_train\\\\Training\\\\Fear\\\\7756.jpg'\n"
     ]
    }
   ],
   "source": [
    "#확인하기\n",
    "for f in list_ds.take(5) : \n",
    "    print(f.numpy())"
   ]
  },
  {
   "cell_type": "markdown",
   "metadata": {},
   "source": [
    "## Data labeling을 위한 전처리"
   ]
  },
  {
   "cell_type": "code",
   "execution_count": 7,
   "metadata": {},
   "outputs": [
    {
     "data": {
      "text/plain": [
       "array(['Angry', 'Disgust', 'Fear', 'Happy', 'Neutral', 'Sad', 'Surprise'],\n",
       "      dtype='<U8')"
      ]
     },
     "execution_count": 7,
     "metadata": {},
     "output_type": "execute_result"
    }
   ],
   "source": [
    "CLASS_NAMES = np.array([item.name for item in train_dir.glob('*')])\n",
    "\n",
    "CLASS_NAMES"
   ]
  },
  {
   "cell_type": "code",
   "execution_count": 8,
   "metadata": {},
   "outputs": [
    {
     "name": "stdout",
     "output_type": "stream",
     "text": [
      "{'Angry': 0, 'Disgust': 1, 'Fear': 2, 'Happy': 3, 'Neutral': 4, 'Sad': 5, 'Surprise': 6}\n"
     ]
    }
   ],
   "source": [
    "CLASS_NAME_TO_ID = {}\n",
    "for id, name in enumerate(CLASS_NAMES):\n",
    "    CLASS_NAME_TO_ID[name] = id\n",
    "    \n",
    "print(CLASS_NAME_TO_ID)"
   ]
  },
  {
   "cell_type": "code",
   "execution_count": 9,
   "metadata": {},
   "outputs": [
    {
     "name": "stdout",
     "output_type": "stream",
     "text": [
      "['Angry', 'Disgust', 'Fear', 'Happy', 'Neutral', 'Sad', 'Surprise'] [0, 1, 2, 3, 4, 5, 6]\n"
     ]
    }
   ],
   "source": [
    "keys = list(CLASS_NAME_TO_ID.keys())\n",
    "ids = list(CLASS_NAME_TO_ID.values())\n",
    "print(keys,ids)"
   ]
  },
  {
   "cell_type": "code",
   "execution_count": 10,
   "metadata": {},
   "outputs": [],
   "source": [
    "table = tf.lookup.StaticHashTable(\n",
    "    initializer= tf.lookup.KeyValueTensorInitializer(\n",
    "    keys= tf.constant(keys),\n",
    "    values=tf.constant(ids),),\n",
    "    default_value=tf.constant(-1),\n",
    "    name=\"class_weight\")"
   ]
  },
  {
   "cell_type": "code",
   "execution_count": 11,
   "metadata": {},
   "outputs": [],
   "source": [
    "BATCH_SIZE = 64\n",
    "IMG_HEIGHT = 96\n",
    "IMG_WIDTH = 96"
   ]
  },
  {
   "cell_type": "markdown",
   "metadata": {},
   "source": [
    "## data labeling을 위한 함수 선언"
   ]
  },
  {
   "cell_type": "code",
   "execution_count": 12,
   "metadata": {},
   "outputs": [],
   "source": [
    "def get_label(file_path) :\n",
    "    parts = tf.strings.split(file_path, '\\\\')\n",
    "    return table.lookup(parts[-2])"
   ]
  },
  {
   "cell_type": "code",
   "execution_count": 13,
   "metadata": {},
   "outputs": [],
   "source": [
    "def decode_img(img):\n",
    "    img = tf.image.decode_jpeg(img,channels=1)\n",
    "    img = tf.image.convert_image_dtype(img, tf.float32)\n",
    "    return tf.image.resize(img,[IMG_WIDTH,IMG_HEIGHT])"
   ]
  },
  {
   "cell_type": "code",
   "execution_count": 14,
   "metadata": {},
   "outputs": [],
   "source": [
    "def process_path(file_path):\n",
    "    label = get_label(file_path)\n",
    "    img = tf.io.read_file(file_path)\n",
    "    img = decode_img(img)\n",
    "    return img, label"
   ]
  },
  {
   "cell_type": "markdown",
   "metadata": {},
   "source": [
    "### labeling 된 데이터셋 만들기"
   ]
  },
  {
   "cell_type": "code",
   "execution_count": 15,
   "metadata": {},
   "outputs": [],
   "source": [
    "labeled_ds = list_ds.shuffle(10000).map(process_path, num_parallel_calls=AUTOTUNE).batch(BATCH_SIZE)\n",
    "val_labeled_ds = val_list_ds.map(process_path,num_parallel_calls=AUTOTUNE).batch(BATCH_SIZE)"
   ]
  },
  {
   "cell_type": "code",
   "execution_count": 16,
   "metadata": {},
   "outputs": [
    {
     "name": "stdout",
     "output_type": "stream",
     "text": [
      "image shape :  (64, 96, 96, 1)\n",
      "Label :  [4 5 0 0 4 3 4 4 3 3 0 2 3 3 3 3 3 5 6 0 2 3 5 3 4 4 4 4 4 2 5 4 4 4 3 6 0\n",
      " 2 0 0 3 2 4 2 4 2 0 6 4 2 0 5 3 3 6 3 2 3 4 3 0 6 2 2]\n",
      "val_img_shape :  (64, 96, 96, 1)\n"
     ]
    }
   ],
   "source": [
    "for image, label in labeled_ds.take(1) :\n",
    "    print(\"image shape : \", image.numpy().shape)\n",
    "    print(\"Label : \", label.numpy())\n",
    "    \n",
    "for i in val_labeled_ds.take(1):\n",
    "    print('val_img_shape : ',i[0].shape)"
   ]
  },
  {
   "cell_type": "markdown",
   "metadata": {},
   "source": [
    "# Model 만들기  "
   ]
  },
  {
   "cell_type": "code",
   "execution_count": 17,
   "metadata": {},
   "outputs": [],
   "source": [
    "def create_model() :\n",
    "    inputs = keras.Input(shape=(96, 96,1), name='img')\n",
    "\n",
    "    feature = tf.keras.layers.Conv2D(96, 3, padding = 'same', input_shape=(IMG_HEIGHT, IMG_WIDTH ,3))(inputs)\n",
    "    feature = tf.keras.layers.BatchNormalization()(feature)\n",
    "    feature = tf.keras.layers.ReLU()(feature)\n",
    "    feature = tf.keras.layers.MaxPooling2D()(feature)\n",
    "    feature = tf.keras.layers.Dropout(0.2)(feature)\n",
    "\n",
    "    feature = tf.keras.layers.Conv2D(128, 3, padding='same')(feature)\n",
    "    feature = tf.keras.layers.BatchNormalization()(feature)\n",
    "    feature = tf.keras.layers.ReLU()(feature)\n",
    "    feature = tf.keras.layers.MaxPooling2D()(feature)\n",
    "    feature = tf.keras.layers.Dropout(0.2)(feature)\n",
    "\n",
    "    feature = tf.keras.layers.Conv2D(96, 3, padding='same')(feature)\n",
    "    feature = tf.keras.layers.BatchNormalization()(feature)\n",
    "    feature = tf.keras.layers.ReLU()(feature)\n",
    "    feature = tf.keras.layers.MaxPooling2D()(feature)\n",
    "    feature = tf.keras.layers.Dropout(0.2)(feature)\n",
    "    \n",
    "    feature = tf.keras.layers.Conv2D(96, 3, padding='same')(feature)\n",
    "    feature = tf.keras.layers.BatchNormalization()(feature)\n",
    "    feature = tf.keras.layers.ReLU()(feature)\n",
    "    feature = tf.keras.layers.MaxPooling2D()(feature)\n",
    "    feature = tf.keras.layers.Dropout(0.2)(feature)\n",
    "    \n",
    "    #feature = tf.keras.layers.Flatten()(feature)\n",
    "    feature = tf.keras.layers.GlobalAveragePooling2D()(feature)\n",
    "    feature = tf.keras.layers.Dense(96, activation='relu')(feature)\n",
    "    feature = tf.keras.layers.Dense(32, activation='relu')(feature)\n",
    "    outputs = tf.keras.layers.Dense(7, activation='softmax')(feature)\n",
    "\n",
    "    model = keras.Model(inputs=inputs, outputs=outputs)\n",
    "    \n",
    "    return model"
   ]
  },
  {
   "cell_type": "code",
   "execution_count": 18,
   "metadata": {},
   "outputs": [],
   "source": [
    "model = create_model()"
   ]
  },
  {
   "cell_type": "code",
   "execution_count": 19,
   "metadata": {},
   "outputs": [],
   "source": [
    "train_len = len(list(list_ds))\n",
    "val_len = len(list(val_list_ds))\n",
    "\n",
    "steps_per_epoch = train_len // BATCH_SIZE\n",
    "validation_steps = val_len // BATCH_SIZE"
   ]
  },
  {
   "cell_type": "code",
   "execution_count": 24,
   "metadata": {},
   "outputs": [],
   "source": [
    "checkpoint_path = \"../../before_folder/model_save/test_2-{epoch:03d}-{val_accuracy:.2f}.hdf5\""
   ]
  },
  {
   "cell_type": "code",
   "execution_count": 28,
   "metadata": {},
   "outputs": [],
   "source": [
    "EPOCH = 150\n",
    "learning_rate = 0.003\n",
    "\n",
    "def train_model(model):\n",
    "    \n",
    "    model.compile(optimizer= tf.keras.optimizers.Adam(learning_rate = learning_rate),\n",
    "                  loss='sparse_categorical_crossentropy',\n",
    "                  metrics=['accuracy'])\n",
    "    \n",
    "    model_checkpoint_callback = tf.keras.callbacks.ModelCheckpoint(filepath=checkpoint_path,\n",
    "                                                                   period=20)\n",
    "    \n",
    "    history = model.fit(labeled_ds.repeat(),\n",
    "                        epochs=EPOCH,\n",
    "                        steps_per_epoch = steps_per_epoch,\n",
    "                        validation_data = val_labeled_ds,\n",
    "                        validation_steps = validation_steps,\n",
    "                        callbacks = [model_checkpoint_callback])\n",
    "    \n",
    "    return history"
   ]
  },
  {
   "cell_type": "code",
   "execution_count": 29,
   "metadata": {},
   "outputs": [
    {
     "name": "stdout",
     "output_type": "stream",
     "text": [
      "WARNING:tensorflow:`period` argument is deprecated. Please use `save_freq` to specify the frequency in number of samples seen.\n",
      "Train for 448 steps, validate for 56 steps\n",
      "Epoch 1/150\n",
      "448/448 [==============================] - 29s 65ms/step - loss: 0.5310 - accuracy: 0.8060 - val_loss: 1.2421 - val_accuracy: 0.5951\n",
      "Epoch 2/150\n",
      "448/448 [==============================] - 29s 64ms/step - loss: 0.5251 - accuracy: 0.8059 - val_loss: 1.2100 - val_accuracy: 0.6094\n",
      "Epoch 3/150\n",
      "448/448 [==============================] - 28s 63ms/step - loss: 0.5213 - accuracy: 0.8084 - val_loss: 1.2542 - val_accuracy: 0.6133\n",
      "Epoch 4/150\n",
      "448/448 [==============================] - 29s 64ms/step - loss: 0.5211 - accuracy: 0.8058 - val_loss: 1.2406 - val_accuracy: 0.6030\n",
      "Epoch 5/150\n",
      "448/448 [==============================] - 29s 64ms/step - loss: 0.5166 - accuracy: 0.8088 - val_loss: 1.2511 - val_accuracy: 0.5979\n",
      "Epoch 6/150\n",
      "448/448 [==============================] - 29s 64ms/step - loss: 0.5125 - accuracy: 0.8106 - val_loss: 1.2474 - val_accuracy: 0.6108\n",
      "Epoch 7/150\n",
      "448/448 [==============================] - 28s 63ms/step - loss: 0.5106 - accuracy: 0.8090 - val_loss: 1.2401 - val_accuracy: 0.6099\n",
      "Epoch 8/150\n",
      "448/448 [==============================] - 28s 63ms/step - loss: 0.5137 - accuracy: 0.8104 - val_loss: 1.2019 - val_accuracy: 0.6180\n",
      "Epoch 9/150\n",
      "448/448 [==============================] - 29s 64ms/step - loss: 0.5026 - accuracy: 0.8124 - val_loss: 1.1968 - val_accuracy: 0.6258\n",
      "Epoch 10/150\n",
      "448/448 [==============================] - 29s 64ms/step - loss: 0.5107 - accuracy: 0.8125 - val_loss: 1.2105 - val_accuracy: 0.6127\n",
      "Epoch 11/150\n",
      "448/448 [==============================] - 29s 64ms/step - loss: 0.5070 - accuracy: 0.8139 - val_loss: 1.2023 - val_accuracy: 0.6175\n",
      "Epoch 12/150\n",
      "448/448 [==============================] - 29s 65ms/step - loss: 0.5103 - accuracy: 0.8143 - val_loss: 1.2713 - val_accuracy: 0.6010\n",
      "Epoch 13/150\n",
      "448/448 [==============================] - 29s 64ms/step - loss: 0.5010 - accuracy: 0.8159 - val_loss: 1.2452 - val_accuracy: 0.6141\n",
      "Epoch 14/150\n",
      "448/448 [==============================] - 29s 65ms/step - loss: 0.5029 - accuracy: 0.8154 - val_loss: 1.2057 - val_accuracy: 0.6138\n",
      "Epoch 15/150\n",
      "448/448 [==============================] - 29s 64ms/step - loss: 0.4996 - accuracy: 0.8145 - val_loss: 1.2745 - val_accuracy: 0.6018\n",
      "Epoch 16/150\n",
      "448/448 [==============================] - 29s 64ms/step - loss: 0.4909 - accuracy: 0.8163 - val_loss: 1.2647 - val_accuracy: 0.6136\n",
      "Epoch 17/150\n",
      "448/448 [==============================] - 29s 65ms/step - loss: 0.4931 - accuracy: 0.8171 - val_loss: 1.2641 - val_accuracy: 0.6217\n",
      "Epoch 18/150\n",
      "448/448 [==============================] - 29s 64ms/step - loss: 0.4888 - accuracy: 0.8153 - val_loss: 1.2665 - val_accuracy: 0.6105\n",
      "Epoch 19/150\n",
      "448/448 [==============================] - 29s 65ms/step - loss: 0.4916 - accuracy: 0.8183 - val_loss: 1.2231 - val_accuracy: 0.6113\n",
      "Epoch 20/150\n",
      "448/448 [==============================] - 29s 65ms/step - loss: 0.4893 - accuracy: 0.8211 - val_loss: 1.2265 - val_accuracy: 0.6158\n",
      "Epoch 21/150\n",
      "448/448 [==============================] - 29s 64ms/step - loss: 0.4886 - accuracy: 0.8182 - val_loss: 1.2368 - val_accuracy: 0.6158\n",
      "Epoch 22/150\n",
      "448/448 [==============================] - 29s 64ms/step - loss: 0.4871 - accuracy: 0.8191 - val_loss: 1.2781 - val_accuracy: 0.5935\n",
      "Epoch 23/150\n",
      "448/448 [==============================] - 29s 65ms/step - loss: 0.4895 - accuracy: 0.8200 - val_loss: 1.2847 - val_accuracy: 0.6097\n",
      "Epoch 24/150\n",
      "448/448 [==============================] - 29s 64ms/step - loss: 0.4845 - accuracy: 0.8208 - val_loss: 1.2527 - val_accuracy: 0.6186\n",
      "Epoch 25/150\n",
      "448/448 [==============================] - 29s 64ms/step - loss: 0.4878 - accuracy: 0.8211 - val_loss: 1.3142 - val_accuracy: 0.5957\n",
      "Epoch 26/150\n",
      "448/448 [==============================] - 29s 64ms/step - loss: 0.4867 - accuracy: 0.8211 - val_loss: 1.2606 - val_accuracy: 0.6158\n",
      "Epoch 27/150\n",
      "448/448 [==============================] - 29s 65ms/step - loss: 0.4800 - accuracy: 0.8240 - val_loss: 1.2299 - val_accuracy: 0.6222\n",
      "Epoch 28/150\n",
      "448/448 [==============================] - 29s 65ms/step - loss: 0.4841 - accuracy: 0.8209 - val_loss: 1.2510 - val_accuracy: 0.6066\n",
      "Epoch 29/150\n",
      "448/448 [==============================] - 29s 65ms/step - loss: 0.4733 - accuracy: 0.8239 - val_loss: 1.2669 - val_accuracy: 0.6052\n",
      "Epoch 30/150\n",
      "448/448 [==============================] - 29s 64ms/step - loss: 0.4874 - accuracy: 0.8187 - val_loss: 1.2378 - val_accuracy: 0.6004\n",
      "Epoch 31/150\n",
      "448/448 [==============================] - 29s 64ms/step - loss: 0.4666 - accuracy: 0.8287 - val_loss: 1.2707 - val_accuracy: 0.6110\n",
      "Epoch 32/150\n",
      "448/448 [==============================] - 29s 64ms/step - loss: 0.4758 - accuracy: 0.8230 - val_loss: 1.2176 - val_accuracy: 0.6323\n",
      "Epoch 33/150\n",
      "448/448 [==============================] - 29s 65ms/step - loss: 0.4676 - accuracy: 0.8281 - val_loss: 1.2282 - val_accuracy: 0.6214\n",
      "Epoch 34/150\n",
      "448/448 [==============================] - 29s 64ms/step - loss: 0.4782 - accuracy: 0.8213 - val_loss: 1.2727 - val_accuracy: 0.6094\n",
      "Epoch 35/150\n",
      "448/448 [==============================] - 29s 65ms/step - loss: 0.4819 - accuracy: 0.8223 - val_loss: 1.2322 - val_accuracy: 0.6138\n",
      "Epoch 36/150\n",
      "448/448 [==============================] - 29s 65ms/step - loss: 0.4656 - accuracy: 0.8278 - val_loss: 1.2655 - val_accuracy: 0.6049\n",
      "Epoch 37/150\n",
      "448/448 [==============================] - 29s 65ms/step - loss: 0.4719 - accuracy: 0.8264 - val_loss: 1.2242 - val_accuracy: 0.6225\n",
      "Epoch 38/150\n",
      "448/448 [==============================] - 29s 64ms/step - loss: 0.4724 - accuracy: 0.8280 - val_loss: 1.2304 - val_accuracy: 0.6136\n",
      "Epoch 39/150\n",
      "448/448 [==============================] - 29s 65ms/step - loss: 0.4654 - accuracy: 0.8257 - val_loss: 1.3307 - val_accuracy: 0.6102\n",
      "Epoch 40/150\n",
      "448/448 [==============================] - 29s 65ms/step - loss: 0.4683 - accuracy: 0.8291 - val_loss: 1.2336 - val_accuracy: 0.6211.4683 - \n",
      "Epoch 41/150\n",
      "448/448 [==============================] - 29s 65ms/step - loss: 0.4631 - accuracy: 0.8285 - val_loss: 1.2942 - val_accuracy: 0.6113\n",
      "Epoch 42/150\n",
      "448/448 [==============================] - 29s 64ms/step - loss: 0.4605 - accuracy: 0.8294 - val_loss: 1.2844 - val_accuracy: 0.6191\n",
      "Epoch 43/150\n",
      "448/448 [==============================] - 29s 64ms/step - loss: 0.4603 - accuracy: 0.8313 - val_loss: 1.2154 - val_accuracy: 0.6233\n",
      "Epoch 44/150\n",
      "448/448 [==============================] - 29s 65ms/step - loss: 0.4607 - accuracy: 0.8289 - val_loss: 1.2802 - val_accuracy: 0.6177\n",
      "Epoch 45/150\n",
      "448/448 [==============================] - 28s 63ms/step - loss: 0.4673 - accuracy: 0.8272 - val_loss: 1.1905 - val_accuracy: 0.6309\n",
      "Epoch 46/150\n",
      "448/448 [==============================] - 29s 64ms/step - loss: 0.4644 - accuracy: 0.8281 - val_loss: 1.2860 - val_accuracy: 0.6250\n",
      "Epoch 47/150\n",
      "448/448 [==============================] - 29s 65ms/step - loss: 0.4579 - accuracy: 0.8316 - val_loss: 1.2014 - val_accuracy: 0.6222\n",
      "Epoch 48/150\n",
      "448/448 [==============================] - 29s 65ms/step - loss: 0.4481 - accuracy: 0.8347 - val_loss: 1.2552 - val_accuracy: 0.6183\n",
      "Epoch 49/150\n",
      "448/448 [==============================] - 29s 65ms/step - loss: 0.4569 - accuracy: 0.8311 - val_loss: 1.3016 - val_accuracy: 0.6122\n",
      "Epoch 50/150\n",
      "448/448 [==============================] - 29s 64ms/step - loss: 0.4606 - accuracy: 0.8279 - val_loss: 1.3014 - val_accuracy: 0.6110\n",
      "Epoch 51/150\n",
      "448/448 [==============================] - 29s 64ms/step - loss: 0.4545 - accuracy: 0.8307 - val_loss: 1.3050 - val_accuracy: 0.5982\n",
      "Epoch 52/150\n",
      "448/448 [==============================] - 29s 65ms/step - loss: 0.4495 - accuracy: 0.8326 - val_loss: 1.2498 - val_accuracy: 0.6300\n",
      "Epoch 53/150\n",
      "448/448 [==============================] - 29s 64ms/step - loss: 0.4481 - accuracy: 0.8368 - val_loss: 1.2981 - val_accuracy: 0.6186\n",
      "Epoch 54/150\n",
      "448/448 [==============================] - 29s 65ms/step - loss: 0.4462 - accuracy: 0.8356 - val_loss: 1.2551 - val_accuracy: 0.6303 loss: 0.4461 - accuracy:  - ETA: 1s - loss: 0.4463  - ETA: 0s - l\n",
      "Epoch 55/150\n",
      "448/448 [==============================] - 29s 65ms/step - loss: 0.4519 - accuracy: 0.8347 - val_loss: 1.2189 - val_accuracy: 0.6289\n",
      "Epoch 56/150\n",
      "448/448 [==============================] - 29s 64ms/step - loss: 0.4601 - accuracy: 0.8306 - val_loss: 1.2885 - val_accuracy: 0.6239\n",
      "Epoch 57/150\n",
      "448/448 [==============================] - 29s 64ms/step - loss: 0.4398 - accuracy: 0.8382 - val_loss: 1.2721 - val_accuracy: 0.6116\n",
      "Epoch 58/150\n",
      "448/448 [==============================] - 29s 65ms/step - loss: 0.4531 - accuracy: 0.8335 - val_loss: 1.2763 - val_accuracy: 0.6239\n",
      "Epoch 59/150\n",
      "448/448 [==============================] - 29s 65ms/step - loss: 0.4397 - accuracy: 0.8369 - val_loss: 1.2641 - val_accuracy: 0.6138\n",
      "Epoch 60/150\n",
      "448/448 [==============================] - 29s 65ms/step - loss: 0.4481 - accuracy: 0.8351 - val_loss: 1.3198 - val_accuracy: 0.6161\n",
      "Epoch 61/150\n",
      "448/448 [==============================] - 29s 65ms/step - loss: 0.4375 - accuracy: 0.8406 - val_loss: 1.2591 - val_accuracy: 0.6071\n",
      "Epoch 62/150\n",
      "448/448 [==============================] - 29s 64ms/step - loss: 0.4380 - accuracy: 0.8348 - val_loss: 1.3373 - val_accuracy: 0.6186\n",
      "Epoch 63/150\n",
      "448/448 [==============================] - 29s 65ms/step - loss: 0.4472 - accuracy: 0.8339 - val_loss: 1.2651 - val_accuracy: 0.6222\n",
      "Epoch 64/150\n",
      "448/448 [==============================] - 29s 65ms/step - loss: 0.4422 - accuracy: 0.8395 - val_loss: 1.2664 - val_accuracy: 0.6197\n",
      "Epoch 65/150\n",
      "448/448 [==============================] - 29s 65ms/step - loss: 0.4350 - accuracy: 0.8402 - val_loss: 1.2778 - val_accuracy: 0.6189\n",
      "Epoch 66/150\n",
      "448/448 [==============================] - 29s 65ms/step - loss: 0.4400 - accuracy: 0.8374 - val_loss: 1.3192 - val_accuracy: 0.6046\n",
      "Epoch 67/150\n",
      "448/448 [==============================] - 28s 63ms/step - loss: 0.4393 - accuracy: 0.8358 - val_loss: 1.2927 - val_accuracy: 0.6186\n",
      "Epoch 68/150\n",
      "448/448 [==============================] - 28s 62ms/step - loss: 0.4414 - accuracy: 0.8372 - val_loss: 1.2487 - val_accuracy: 0.6261\n",
      "Epoch 69/150\n",
      "448/448 [==============================] - 28s 62ms/step - loss: 0.4415 - accuracy: 0.8382 - val_loss: 1.2919 - val_accuracy: 0.6191\n",
      "Epoch 70/150\n",
      "448/448 [==============================] - 28s 62ms/step - loss: 0.4361 - accuracy: 0.8398 - val_loss: 1.3303 - val_accuracy: 0.6211\n",
      "Epoch 71/150\n",
      "448/448 [==============================] - 28s 62ms/step - loss: 0.4351 - accuracy: 0.8398 - val_loss: 1.2964 - val_accuracy: 0.6233\n",
      "Epoch 72/150\n",
      "448/448 [==============================] - 29s 64ms/step - loss: 0.4311 - accuracy: 0.8421 - val_loss: 1.2792 - val_accuracy: 0.6222\n",
      "Epoch 73/150\n",
      "448/448 [==============================] - 28s 63ms/step - loss: 0.4292 - accuracy: 0.8414 - val_loss: 1.3453 - val_accuracy: 0.6002\n",
      "Epoch 74/150\n",
      "448/448 [==============================] - 28s 63ms/step - loss: 0.4293 - accuracy: 0.8408 - val_loss: 1.3145 - val_accuracy: 0.6010\n",
      "Epoch 75/150\n",
      "448/448 [==============================] - 29s 65ms/step - loss: 0.4296 - accuracy: 0.8392 - val_loss: 1.3336 - val_accuracy: 0.6052\n",
      "Epoch 76/150\n",
      "448/448 [==============================] - 29s 64ms/step - loss: 0.4283 - accuracy: 0.8395 - val_loss: 1.2784 - val_accuracy: 0.627583 - ETA: 1s - loss: 0.428 - ETA: \n",
      "Epoch 77/150\n",
      "448/448 [==============================] - 29s 64ms/step - loss: 0.4290 - accuracy: 0.8403 - val_loss: 1.3264 - val_accuracy: 0.6217\n",
      "Epoch 78/150\n",
      "448/448 [==============================] - 29s 65ms/step - loss: 0.4330 - accuracy: 0.8407 - val_loss: 1.2496 - val_accuracy: 0.6289\n",
      "Epoch 79/150\n",
      "448/448 [==============================] - 28s 64ms/step - loss: 0.4186 - accuracy: 0.8462 - val_loss: 1.2220 - val_accuracy: 0.6197\n",
      "Epoch 80/150\n",
      "448/448 [==============================] - 29s 65ms/step - loss: 0.4362 - accuracy: 0.8387 - val_loss: 1.2792 - val_accuracy: 0.6225\n",
      "Epoch 81/150\n",
      "448/448 [==============================] - 28s 64ms/step - loss: 0.4281 - accuracy: 0.8402 - val_loss: 1.3068 - val_accuracy: 0.6071\n",
      "Epoch 82/150\n",
      "448/448 [==============================] - 28s 63ms/step - loss: 0.4211 - accuracy: 0.8447 - val_loss: 1.3150 - val_accuracy: 0.6200\n",
      "Epoch 83/150\n",
      "448/448 [==============================] - 28s 64ms/step - loss: 0.4250 - accuracy: 0.8427 - val_loss: 1.3222 - val_accuracy: 0.6113\n",
      "Epoch 84/150\n",
      "448/448 [==============================] - 28s 64ms/step - loss: 0.4257 - accuracy: 0.8443 - val_loss: 1.2779 - val_accuracy: 0.6250\n",
      "Epoch 85/150\n",
      "448/448 [==============================] - 28s 64ms/step - loss: 0.4257 - accuracy: 0.8419 - val_loss: 1.3126 - val_accuracy: 0.6024\n",
      "Epoch 86/150\n",
      "448/448 [==============================] - 28s 64ms/step - loss: 0.4248 - accuracy: 0.8434 - val_loss: 1.2699 - val_accuracy: 0.6289\n",
      "Epoch 87/150\n",
      "448/448 [==============================] - 28s 63ms/step - loss: 0.4203 - accuracy: 0.8454 - val_loss: 1.2855 - val_accuracy: 0.6225\n",
      "Epoch 88/150\n",
      "448/448 [==============================] - 28s 64ms/step - loss: 0.4164 - accuracy: 0.8465 - val_loss: 1.2822 - val_accuracy: 0.6088\n",
      "Epoch 89/150\n",
      "448/448 [==============================] - 28s 64ms/step - loss: 0.4232 - accuracy: 0.8431 - val_loss: 1.2700 - val_accuracy: 0.6203\n",
      "Epoch 90/150\n",
      "448/448 [==============================] - 28s 64ms/step - loss: 0.4210 - accuracy: 0.8452 - val_loss: 1.2717 - val_accuracy: 0.6189\n",
      "Epoch 91/150\n",
      "448/448 [==============================] - 28s 64ms/step - loss: 0.4122 - accuracy: 0.8468 - val_loss: 1.3192 - val_accuracy: 0.6016124 - accuracy: \n",
      "Epoch 92/150\n",
      "448/448 [==============================] - 28s 64ms/step - loss: 0.4214 - accuracy: 0.8444 - val_loss: 1.3298 - val_accuracy: 0.6186\n",
      "Epoch 93/150\n",
      "448/448 [==============================] - 28s 64ms/step - loss: 0.4144 - accuracy: 0.8490 - val_loss: 1.3304 - val_accuracy: 0.6144\n",
      "Epoch 94/150\n",
      "448/448 [==============================] - 29s 64ms/step - loss: 0.4249 - accuracy: 0.8432 - val_loss: 1.3127 - val_accuracy: 0.6091: 0s - loss: 0.4254 - accuracy: 0.84 - ETA: 0s - loss: 0\n",
      "Epoch 95/150\n",
      "448/448 [==============================] - 28s 64ms/step - loss: 0.4184 - accuracy: 0.8455 - val_loss: 1.2978 - val_accuracy: 0.6144\n",
      "Epoch 96/150\n",
      "448/448 [==============================] - 28s 64ms/step - loss: 0.4152 - accuracy: 0.8467 - val_loss: 1.3745 - val_accuracy: 0.5890\n",
      "Epoch 97/150\n",
      "448/448 [==============================] - 28s 64ms/step - loss: 0.4128 - accuracy: 0.8505 - val_loss: 1.2962 - val_accuracy: 0.6197\n",
      "Epoch 98/150\n",
      "448/448 [==============================] - 28s 64ms/step - loss: 0.4147 - accuracy: 0.8510 - val_loss: 1.3011 - val_accuracy: 0.6164\n",
      "Epoch 99/150\n",
      "448/448 [==============================] - 28s 64ms/step - loss: 0.4157 - accuracy: 0.8478 - val_loss: 1.2738 - val_accuracy: 0.6205\n",
      "Epoch 100/150\n",
      "448/448 [==============================] - 29s 64ms/step - loss: 0.4122 - accuracy: 0.8466 - val_loss: 1.3277 - val_accuracy: 0.6191\n",
      "Epoch 101/150\n",
      "448/448 [==============================] - 28s 64ms/step - loss: 0.4086 - accuracy: 0.8500 - val_loss: 1.3417 - val_accuracy: 0.6133\n",
      "Epoch 102/150\n",
      "448/448 [==============================] - 28s 64ms/step - loss: 0.4154 - accuracy: 0.8488 - val_loss: 1.3409 - val_accuracy: 0.6130\n",
      "Epoch 103/150\n",
      "448/448 [==============================] - 28s 64ms/step - loss: 0.4128 - accuracy: 0.8494 - val_loss: 1.3431 - val_accuracy: 0.6136\n",
      "Epoch 104/150\n",
      "448/448 [==============================] - 28s 64ms/step - loss: 0.4069 - accuracy: 0.8504 - val_loss: 1.2509 - val_accuracy: 0.6317\n",
      "Epoch 105/150\n",
      "448/448 [==============================] - 28s 64ms/step - loss: 0.4001 - accuracy: 0.8544 - val_loss: 1.3547 - val_accuracy: 0.5921\n",
      "Epoch 106/150\n",
      "448/448 [==============================] - 28s 64ms/step - loss: 0.4142 - accuracy: 0.8466 - val_loss: 1.3549 - val_accuracy: 0.6010\n",
      "Epoch 107/150\n",
      "448/448 [==============================] - 28s 64ms/step - loss: 0.4151 - accuracy: 0.8470 - val_loss: 1.3252 - val_accuracy: 0.6191\n",
      "Epoch 108/150\n",
      "448/448 [==============================] - 29s 64ms/step - loss: 0.4019 - accuracy: 0.8514 - val_loss: 1.3175 - val_accuracy: 0.6194\n",
      "Epoch 109/150\n",
      "448/448 [==============================] - 28s 64ms/step - loss: 0.4019 - accuracy: 0.8522 - val_loss: 1.3064 - val_accuracy: 0.6292\n",
      "Epoch 110/150\n",
      "448/448 [==============================] - 28s 64ms/step - loss: 0.4029 - accuracy: 0.8520 - val_loss: 1.4793 - val_accuracy: 0.5940\n",
      "Epoch 111/150\n",
      "448/448 [==============================] - 29s 64ms/step - loss: 0.4055 - accuracy: 0.8535 - val_loss: 1.3400 - val_accuracy: 0.6203\n",
      "Epoch 112/150\n",
      "448/448 [==============================] - 28s 64ms/step - loss: 0.4030 - accuracy: 0.8529 - val_loss: 1.2518 - val_accuracy: 0.6331029 - accuracy: 0.85\n",
      "Epoch 113/150\n",
      "448/448 [==============================] - 28s 64ms/step - loss: 0.4074 - accuracy: 0.8484 - val_loss: 1.2973 - val_accuracy: 0.6297\n",
      "Epoch 114/150\n",
      "448/448 [==============================] - 29s 64ms/step - loss: 0.4072 - accuracy: 0.8495 - val_loss: 1.3586 - val_accuracy: 0.6071\n",
      "Epoch 115/150\n",
      "448/448 [==============================] - 28s 64ms/step - loss: 0.4084 - accuracy: 0.8505 - val_loss: 1.3706 - val_accuracy: 0.6024\n",
      "Epoch 116/150\n",
      "448/448 [==============================] - 29s 64ms/step - loss: 0.3940 - accuracy: 0.8544 - val_loss: 1.2765 - val_accuracy: 0.6328\n",
      "Epoch 117/150\n",
      "448/448 [==============================] - 29s 64ms/step - loss: 0.3986 - accuracy: 0.8535 - val_loss: 1.3056 - val_accuracy: 0.6261\n",
      "Epoch 118/150\n",
      "448/448 [==============================] - 28s 64ms/step - loss: 0.3994 - accuracy: 0.8522 - val_loss: 1.2933 - val_accuracy: 0.6200\n",
      "Epoch 119/150\n",
      "448/448 [==============================] - 29s 64ms/step - loss: 0.4047 - accuracy: 0.8503 - val_loss: 1.3005 - val_accuracy: 0.6136\n",
      "Epoch 120/150\n",
      "448/448 [==============================] - 29s 64ms/step - loss: 0.3978 - accuracy: 0.8555 - val_loss: 1.3224 - val_accuracy: 0.6119\n",
      "Epoch 121/150\n",
      "448/448 [==============================] - 28s 64ms/step - loss: 0.4011 - accuracy: 0.8519 - val_loss: 1.3366 - val_accuracy: 0.6194\n",
      "Epoch 122/150\n",
      "448/448 [==============================] - 28s 64ms/step - loss: 0.3970 - accuracy: 0.8555 - val_loss: 1.2901 - val_accuracy: 0.6214\n",
      "Epoch 123/150\n",
      "448/448 [==============================] - 29s 64ms/step - loss: 0.4058 - accuracy: 0.8531 - val_loss: 1.2979 - val_accuracy: 0.6264\n",
      "Epoch 124/150\n",
      "448/448 [==============================] - 29s 64ms/step - loss: 0.3918 - accuracy: 0.8555 - val_loss: 1.3352 - val_accuracy: 0.6122\n",
      "Epoch 125/150\n",
      "448/448 [==============================] - 28s 64ms/step - loss: 0.3916 - accuracy: 0.8578 - val_loss: 1.3808 - val_accuracy: 0.6133\n",
      "Epoch 126/150\n",
      "448/448 [==============================] - 28s 64ms/step - loss: 0.3940 - accuracy: 0.8542 - val_loss: 1.3294 - val_accuracy: 0.6250\n",
      "Epoch 127/150\n",
      "448/448 [==============================] - 28s 64ms/step - loss: 0.3938 - accuracy: 0.8563 - val_loss: 1.3572 - val_accuracy: 0.6138\n",
      "Epoch 128/150\n",
      "448/448 [==============================] - 29s 64ms/step - loss: 0.3950 - accuracy: 0.8547 - val_loss: 1.3488 - val_accuracy: 0.6164- accuracy - ETA: 0s - l\n",
      "Epoch 129/150\n",
      "448/448 [==============================] - 28s 64ms/step - loss: 0.3938 - accuracy: 0.8562 - val_loss: 1.3185 - val_accuracy: 0.6133\n",
      "Epoch 130/150\n",
      "448/448 [==============================] - 29s 64ms/step - loss: 0.3873 - accuracy: 0.8543 - val_loss: 1.3515 - val_accuracy: 0.6239\n",
      "Epoch 131/150\n",
      "448/448 [==============================] - 28s 64ms/step - loss: 0.3973 - accuracy: 0.8538 - val_loss: 1.2770 - val_accuracy: 0.6281\n",
      "Epoch 132/150\n",
      "448/448 [==============================] - 28s 64ms/step - loss: 0.3923 - accuracy: 0.8561 - val_loss: 1.2825 - val_accuracy: 0.6261\n",
      "Epoch 133/150\n",
      "448/448 [==============================] - 28s 64ms/step - loss: 0.4031 - accuracy: 0.8538 - val_loss: 1.3120 - val_accuracy: 0.6136\n",
      "Epoch 134/150\n",
      "448/448 [==============================] - 28s 64ms/step - loss: 0.3855 - accuracy: 0.8597 - val_loss: 1.2991 - val_accuracy: 0.6203\n",
      "Epoch 135/150\n",
      "448/448 [==============================] - 28s 64ms/step - loss: 0.3896 - accuracy: 0.8550 - val_loss: 1.3460 - val_accuracy: 0.6200\n",
      "Epoch 136/150\n",
      "448/448 [==============================] - 29s 64ms/step - loss: 0.3947 - accuracy: 0.8540 - val_loss: 1.2818 - val_accuracy: 0.6275\n",
      "Epoch 137/150\n",
      "448/448 [==============================] - 28s 64ms/step - loss: 0.3923 - accuracy: 0.8541 - val_loss: 1.2849 - val_accuracy: 0.6242\n",
      "Epoch 138/150\n",
      "448/448 [==============================] - 29s 64ms/step - loss: 0.3757 - accuracy: 0.8607 - val_loss: 1.3780 - val_accuracy: 0.6228\n",
      "Epoch 139/150\n",
      "448/448 [==============================] - 28s 64ms/step - loss: 0.3972 - accuracy: 0.8554 - val_loss: 1.3007 - val_accuracy: 0.6292\n",
      "Epoch 140/150\n",
      "448/448 [==============================] - 29s 64ms/step - loss: 0.3953 - accuracy: 0.8540 - val_loss: 1.3047 - val_accuracy: 0.6272\n",
      "Epoch 141/150\n",
      "448/448 [==============================] - 28s 64ms/step - loss: 0.3819 - accuracy: 0.8602 - val_loss: 1.3240 - val_accuracy: 0.6253.3820 - accuracy: 0.\n",
      "Epoch 142/150\n",
      "448/448 [==============================] - 28s 64ms/step - loss: 0.3879 - accuracy: 0.8575 - val_loss: 1.3273 - val_accuracy: 0.6236\n",
      "Epoch 143/150\n",
      "448/448 [==============================] - 28s 64ms/step - loss: 0.3827 - accuracy: 0.8579 - val_loss: 1.3269 - val_accuracy: 0.6314\n",
      "Epoch 144/150\n",
      "448/448 [==============================] - 28s 64ms/step - loss: 0.3780 - accuracy: 0.8590 - val_loss: 1.3810 - val_accuracy: 0.6323\n",
      "Epoch 145/150\n",
      "448/448 [==============================] - 28s 64ms/step - loss: 0.3844 - accuracy: 0.8583 - val_loss: 1.2817 - val_accuracy: 0.6186\n",
      "Epoch 146/150\n",
      "448/448 [==============================] - 28s 64ms/step - loss: 0.3870 - accuracy: 0.8572 - val_loss: 1.3140 - val_accuracy: 0.6200\n",
      "Epoch 147/150\n",
      "448/448 [==============================] - 28s 64ms/step - loss: 0.3871 - accuracy: 0.8577 - val_loss: 1.3721 - val_accuracy: 0.6175\n",
      "Epoch 148/150\n",
      "448/448 [==============================] - 28s 64ms/step - loss: 0.3820 - accuracy: 0.8588 - val_loss: 1.3351 - val_accuracy: 0.6247 - ETA:  - ETA: 3s - loss: - ETA\n",
      "Epoch 149/150\n",
      "448/448 [==============================] - 28s 64ms/step - loss: 0.3781 - accuracy: 0.8630 - val_loss: 1.3886 - val_accuracy: 0.6032\n",
      "Epoch 150/150\n",
      "448/448 [==============================] - 28s 64ms/step - loss: 0.3775 - accuracy: 0.8608 - val_loss: 1.3317 - val_accuracy: 0.6119\n"
     ]
    }
   ],
   "source": [
    "history = train_model(model)"
   ]
  },
  {
   "cell_type": "markdown",
   "metadata": {},
   "source": [
    "# Model Test"
   ]
  },
  {
   "cell_type": "code",
   "execution_count": 32,
   "metadata": {},
   "outputs": [
    {
     "data": {
      "image/png": "[encoded data removed]",
      "text/plain": [
       "<Figure size 576x576 with 2 Axes>"
      ]
     },
     "metadata": {
      "needs_background": "light"
     },
     "output_type": "display_data"
    }
   ],
   "source": [
    "acc = history.history['accuracy']\n",
    "val_acc = history.history['val_accuracy']\n",
    "\n",
    "loss = history.history['loss']\n",
    "val_loss = history.history['val_loss']\n",
    "\n",
    "plt.figure(figsize=(8, 8))\n",
    "plt.subplot(2, 1, 1)\n",
    "plt.plot(acc, label='Training Accuracy')\n",
    "plt.plot(val_acc, label='Validation Accuracy')\n",
    "plt.legend()\n",
    "plt.ylabel('Accuracy')\n",
    "plt.title('Training and Validation Accuracy')\n",
    "\n",
    "plt.subplot(2, 1, 2)\n",
    "plt.plot(loss, label='Training Loss')\n",
    "plt.plot(val_loss, label='Validation Loss')\n",
    "plt.legend()\n",
    "plt.ylabel('Cross Entropy')\n",
    "plt.title('Training and Validation Loss')\n",
    "plt.xlabel('epoch')\n",
    "plt.show()"
   ]
  },
  {
   "cell_type": "code",
   "execution_count": null,
   "metadata": {},
   "outputs": [],
   "source": []
  }
 ],
 "metadata": {
  "kernelspec": {
   "display_name": "Tensorflow",
   "language": "python",
   "name": "tf"
  },
  "language_info": {
   "codemirror_mode": {
    "name": "ipython",
    "version": 3
   },
   "file_extension": ".py",
   "mimetype": "text/x-python",
   "name": "python",
   "nbconvert_exporter": "python",
   "pygments_lexer": "ipython3",
   "version": "3.7.5"
  }
 },
 "nbformat": 4,
 "nbformat_minor": 4
}
